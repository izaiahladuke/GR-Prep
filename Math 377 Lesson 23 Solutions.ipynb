{
 "cells": [
  {
   "cell_type": "code",
   "execution_count": 1,
   "metadata": {},
   "outputs": [],
   "source": [
    "from datascience import *\n",
    "import numpy as np\n",
    "from math import *\n",
    "from scipy import stats\n",
    "import matplotlib.pyplot as plt\n",
    "%matplotlib inline"
   ]
  },
  {
   "cell_type": "markdown",
   "metadata": {},
   "source": [
    "## Lesson 23: Hypothesis Testing, Continued"
   ]
  },
  {
   "cell_type": "markdown",
   "metadata": {},
   "source": [
    "Recall in Lesson 22, we covered hypothesis testing. The structure of a hypothesis test is largely similar regardless of the context of the problem. We state the hypotheses, decide on a test statistic, calculate the $p$-value and reach a conclusion. To calculate a $p$-value, we need to find the distribution of the test statistic under the null hypothesis. "
   ]
  },
  {
   "cell_type": "markdown",
   "metadata": {},
   "source": [
    "### Example 1: The Lady Tasting Tea\n",
    "\n",
    "The \"lady tasting tea\" problem is a now famous story during which, at a gathering one summer afternoon in Cambridge, some friends drank tea with milk. Among them, a woman claimed to be able to tell, based on taste, whether the milk or the tea was added first to the cup. A now famous statistician, Ronald Fisher, was at the gathering, and he studied the claim. The woman was offered 8 cups of tea mixed with milk (4 with milk added first and 4 with tea added first) and she successfully identified 6 (3 of each). What can we say about her ability to discriminate the teas? "
   ]
  },
  {
   "cell_type": "markdown",
   "metadata": {},
   "source": [
    "Step 1: Hypotheses\n",
    "\n",
    "Null hypothesis (or $H_0$): The woman is unable to discriminate between the teas. That is, her guesses are no better than random chance. \n",
    "\n",
    "Alternate hypothesis (or $H_a$): The woman is able to successfully discriminate between the teas. "
   ]
  },
  {
   "cell_type": "markdown",
   "metadata": {},
   "source": [
    "Step 2: Test statistic\n",
    "\n",
    "There are many correct answers. In this example, I will consider $X$, the number of times she correctly chose a cup with tea poured first. "
   ]
  },
  {
   "cell_type": "markdown",
   "metadata": {},
   "source": [
    "Step 3: $p$-value\n",
    "\n",
    "The distribution of $X$ under $H_0$ can be found by analyzing the nature of the experiment. Recall that under $H_0$, the lady is unable to discriminate between the teas, so essentially, she is selecting at random. The lady is tasked to identify the nature of all 8 cups. This is equivalent to selecting the 4 with tea poured first. This is a hypergeometric problem. There are 8 cups ($M=8$). Of those, 4 had tea poured first ($n=4$). She is selecting 4 cups ($N=4$). So, under $H_0$, $X\\sim \\textsf{Hypergeom}(8,4,4)$. \n",
    "\n",
    "The $p$-value is found by calculating the probability of getting our result ($X=3$) or more extreme given $H_0$ is true. So, we are finding the probability that $X$ is 3 or higher. "
   ]
  },
  {
   "cell_type": "code",
   "execution_count": 8,
   "metadata": {},
   "outputs": [
    {
     "data": {
      "text/plain": [
       "0.24285714285714263"
      ]
     },
     "execution_count": 8,
     "metadata": {},
     "output_type": "execute_result"
    }
   ],
   "source": [
    "M,n,N=8,4,4\n",
    "stats.hypergeom.pmf([3,4],M,n,N).sum()"
   ]
  },
  {
   "cell_type": "markdown",
   "metadata": {},
   "source": [
    "Step 4: Conclude\n",
    "\n",
    "With such a large $p$-value, we would fail to reject. There is not enough evidence to say she can discriminate between teas. "
   ]
  },
  {
   "cell_type": "markdown",
   "metadata": {},
   "source": [
    "Note that in this example, we did not have to conduct simulation. We could have; since under $H_0$, $X$ has the hypergeomtric distribution, we could have used the `.rvs` method to simulate from this distribution. The results would have been roughly equivalent: "
   ]
  },
  {
   "cell_type": "code",
   "execution_count": 14,
   "metadata": {},
   "outputs": [
    {
     "data": {
      "text/plain": [
       "0.2439"
      ]
     },
     "execution_count": 14,
     "metadata": {},
     "output_type": "execute_result"
    }
   ],
   "source": [
    "np.mean(stats.hypergeom.rvs(M,n,N,size=10000)>=3)"
   ]
  },
  {
   "cell_type": "markdown",
   "metadata": {},
   "source": [
    "### Example 2: iris dataset\n",
    "\n",
    "The `iris` dataset is common in introductory statistics. It shows various characteristics of three different species of irises. Let's determine whether the virginica species has a larger mean sepal width than that of versicolor. "
   ]
  },
  {
   "cell_type": "code",
   "execution_count": 4,
   "metadata": {},
   "outputs": [
    {
     "data": {
      "text/html": [
       "<table border=\"1\" class=\"dataframe\">\n",
       "    <thead>\n",
       "        <tr>\n",
       "            <th>species</th> <th>sepal_length mean</th> <th>sepal_width mean</th> <th>petal_length mean</th> <th>petal_width mean</th>\n",
       "        </tr>\n",
       "    </thead>\n",
       "    <tbody>\n",
       "        <tr>\n",
       "            <td>setosa    </td> <td>5.006            </td> <td>3.418           </td> <td>1.464            </td> <td>0.244           </td>\n",
       "        </tr>\n",
       "    </tbody>\n",
       "        <tr>\n",
       "            <td>versicolor</td> <td>5.936            </td> <td>2.77            </td> <td>4.26             </td> <td>1.326           </td>\n",
       "        </tr>\n",
       "    </tbody>\n",
       "        <tr>\n",
       "            <td>virginica </td> <td>6.588            </td> <td>2.974           </td> <td>5.552            </td> <td>2.026           </td>\n",
       "        </tr>\n",
       "    </tbody>\n",
       "</table>"
      ],
      "text/plain": [
       "species    | sepal_length mean | sepal_width mean | petal_length mean | petal_width mean\n",
       "setosa     | 5.006             | 3.418            | 1.464             | 0.244\n",
       "versicolor | 5.936             | 2.77             | 4.26              | 1.326\n",
       "virginica  | 6.588             | 2.974            | 5.552             | 2.026"
      ]
     },
     "execution_count": 4,
     "metadata": {},
     "output_type": "execute_result"
    }
   ],
   "source": [
    "iris=Table().read_table(\"iris.csv\")\n",
    "iris.group(4,np.mean)"
   ]
  },
  {
   "cell_type": "markdown",
   "metadata": {},
   "source": [
    "Step 1: Hypotheses\n",
    "\n",
    "$H_0$: The mean sepal widths of versicolor and virginica species are equal ($\\mu_1=\\mu_2$).\n",
    "\n",
    "$H_1$: The mean sepal width of virginica is larger than that of versicolor ($\\mu_2 > \\mu_1$). "
   ]
  },
  {
   "cell_type": "markdown",
   "metadata": {},
   "source": [
    "Step 2: Test statistic\n",
    "\n",
    "Difference in sample means ($\\bar{X}_2 - \\bar{X}_1$). "
   ]
  },
  {
   "cell_type": "markdown",
   "metadata": {},
   "source": [
    "Step 3: $p$-value\n",
    "\n",
    "Those of you that have had statistics before might be tempted to go straight to a 2-sample $t$-test. In this case, under $H_0$, the difference in sample means has a bell-shaped distribution approximated by the $t$ distribution. We will use simulation instead. \n",
    "\n",
    "Under $H_0$, the mean sepal widths are the same between the two species, so we can assume that all individual sepal widths come from the same population and were assigned to species at random. Thus, we can shuffle all the sepal widths and determine an empirical distribution."
   ]
  },
  {
   "cell_type": "code",
   "execution_count": 36,
   "metadata": {},
   "outputs": [
    {
     "data": {
      "text/plain": [
       "0.20399999999999974"
      ]
     },
     "execution_count": 36,
     "metadata": {},
     "output_type": "execute_result"
    }
   ],
   "source": [
    "iris_sub=iris.select(4,1).where(0,are.not_containing('setosa'))\n",
    "obs=np.diff(iris_sub.group(0,np.mean).column(1))[0]\n",
    "obs"
   ]
  },
  {
   "cell_type": "code",
   "execution_count": 5,
   "metadata": {},
   "outputs": [
    {
     "ename": "NameError",
     "evalue": "name 'iris_sub' is not defined",
     "output_type": "error",
     "traceback": [
      "\u001b[1;31m---------------------------------------------------------------------------\u001b[0m",
      "\u001b[1;31mNameError\u001b[0m                                 Traceback (most recent call last)",
      "\u001b[1;32m<ipython-input-5-e8b508e7ea3e>\u001b[0m in \u001b[0;36m<module>\u001b[1;34m()\u001b[0m\n\u001b[1;32m----> 1\u001b[1;33m \u001b[0mnum_obs\u001b[0m\u001b[1;33m=\u001b[0m\u001b[0miris_sub\u001b[0m\u001b[1;33m.\u001b[0m\u001b[0mnum_rows\u001b[0m\u001b[1;33m\u001b[0m\u001b[0m\n\u001b[0m\u001b[0;32m      2\u001b[0m \u001b[0mts\u001b[0m\u001b[1;33m=\u001b[0m\u001b[1;33m[\u001b[0m\u001b[1;33m]\u001b[0m\u001b[1;33m\u001b[0m\u001b[0m\n\u001b[0;32m      3\u001b[0m \u001b[1;32mfor\u001b[0m \u001b[0m_\u001b[0m \u001b[1;32min\u001b[0m \u001b[0mnp\u001b[0m\u001b[1;33m.\u001b[0m\u001b[0marange\u001b[0m\u001b[1;33m(\u001b[0m\u001b[1;36m10000\u001b[0m\u001b[1;33m)\u001b[0m\u001b[1;33m:\u001b[0m\u001b[1;33m\u001b[0m\u001b[0m\n\u001b[0;32m      4\u001b[0m     \u001b[0miris_sample\u001b[0m\u001b[1;33m=\u001b[0m\u001b[0miris_sub\u001b[0m\u001b[1;33m.\u001b[0m\u001b[0mwith_column\u001b[0m\u001b[1;33m(\u001b[0m\u001b[1;34m\"sampled\"\u001b[0m\u001b[1;33m,\u001b[0m\u001b[0miris_sub\u001b[0m\u001b[1;33m.\u001b[0m\u001b[0msample\u001b[0m\u001b[1;33m(\u001b[0m\u001b[0mnum_obs\u001b[0m\u001b[1;33m,\u001b[0m\u001b[0mwith_replacement\u001b[0m\u001b[1;33m=\u001b[0m\u001b[1;32mFalse\u001b[0m\u001b[1;33m)\u001b[0m\u001b[1;33m.\u001b[0m\u001b[0mcolumn\u001b[0m\u001b[1;33m(\u001b[0m\u001b[1;36m1\u001b[0m\u001b[1;33m)\u001b[0m\u001b[1;33m)\u001b[0m\u001b[1;33m\u001b[0m\u001b[0m\n\u001b[0;32m      5\u001b[0m     \u001b[0mts\u001b[0m\u001b[1;33m=\u001b[0m\u001b[0mnp\u001b[0m\u001b[1;33m.\u001b[0m\u001b[0mappend\u001b[0m\u001b[1;33m(\u001b[0m\u001b[0mts\u001b[0m\u001b[1;33m,\u001b[0m\u001b[0mnp\u001b[0m\u001b[1;33m.\u001b[0m\u001b[0mdiff\u001b[0m\u001b[1;33m(\u001b[0m\u001b[0miris_sample\u001b[0m\u001b[1;33m.\u001b[0m\u001b[0mgroup\u001b[0m\u001b[1;33m(\u001b[0m\u001b[1;36m0\u001b[0m\u001b[1;33m,\u001b[0m\u001b[0mnp\u001b[0m\u001b[1;33m.\u001b[0m\u001b[0mmean\u001b[0m\u001b[1;33m)\u001b[0m\u001b[1;33m.\u001b[0m\u001b[0mcolumn\u001b[0m\u001b[1;33m(\u001b[0m\u001b[1;36m2\u001b[0m\u001b[1;33m)\u001b[0m\u001b[1;33m)\u001b[0m\u001b[1;33m[\u001b[0m\u001b[1;36m0\u001b[0m\u001b[1;33m]\u001b[0m\u001b[1;33m)\u001b[0m\u001b[1;33m\u001b[0m\u001b[0m\n",
      "\u001b[1;31mNameError\u001b[0m: name 'iris_sub' is not defined"
     ]
    }
   ],
   "source": [
    "num_obs=iris_sub.num_rows\n",
    "ts=[]\n",
    "for _ in np.arange(10000): \n",
    "    iris_sample=iris_sub.with_column(\"sampled\",iris_sub.sample(num_obs,with_replacement=False).column(1))\n",
    "    ts=np.append(ts,np.diff(iris_sample.group(0,np.mean).column(2))[0])\n"
   ]
  },
  {
   "cell_type": "code",
   "execution_count": 52,
   "metadata": {},
   "outputs": [
    {
     "data": {
      "image/png": "[encoded data removed]",
      "text/plain": [
       "<matplotlib.figure.Figure at 0x217fb9a57b8>"
      ]
     },
     "metadata": {},
     "output_type": "display_data"
    }
   ],
   "source": [
    "plt.hist(ts)\n",
    "plt.show()"
   ]
  },
  {
   "cell_type": "code",
   "execution_count": 56,
   "metadata": {},
   "outputs": [
    {
     "data": {
      "text/plain": [
       "0.0008"
      ]
     },
     "execution_count": 56,
     "metadata": {},
     "output_type": "execute_result"
    }
   ],
   "source": [
    "np.mean(ts>=obs)"
   ]
  },
  {
   "cell_type": "markdown",
   "metadata": {},
   "source": [
    "Step 4: Conclude\n",
    "\n",
    "With such a low $p$-value, I would reject $H_0$ and conclude that the virginica species does in fact have a larger mean sepal width than that of versicolor. "
   ]
  }
 ],
 "metadata": {
  "kernelspec": {
   "display_name": "Python 3",
   "language": "python",
   "name": "python3"
  },
  "language_info": {
   "codemirror_mode": {
    "name": "ipython",
    "version": 3
   },
   "file_extension": ".py",
   "mimetype": "text/x-python",
   "name": "python",
   "nbconvert_exporter": "python",
   "pygments_lexer": "ipython3",
   "version": "3.6.4"
  }
 },
 "nbformat": 4,
 "nbformat_minor": 2
}
