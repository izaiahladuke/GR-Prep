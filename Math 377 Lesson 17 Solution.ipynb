{
 "cells": [
  {
   "cell_type": "code",
   "execution_count": 1,
   "metadata": {},
   "outputs": [],
   "source": [
    "from datascience import *\n",
    "import numpy as np\n",
    "from math import *"
   ]
  },
  {
   "cell_type": "markdown",
   "metadata": {},
   "source": [
    "## Transformations"
   ]
  },
  {
   "cell_type": "markdown",
   "metadata": {},
   "source": [
    "In some cases, we may be interested in the distribution of a transformation of a random variable. For example, if we know the distribution of $X$, we may wish to know the distribution of $X^2$ or $2X$. \n",
    "\n",
    "It helps to consider the pmf/cdf of the original random variables. Let $Y=t(X)$ where $X$ is discrete:\n",
    "\n",
    "$$\n",
    "f_Y(y)=P(Y=y) = P(t(X)=y) = P( X = t^{-1}(y))\n",
    "$$\n",
    "\n",
    "In the continuous case, let's consider the cdf:\n",
    "\n",
    "$$\n",
    "F_Y(y)=P(Y\\leq y) = P(t(X)\\leq y) = P(X \\leq t^{-1}(y)) = F_X(t^{-1}(y))\n",
    "$$"
   ]
  },
  {
   "cell_type": "markdown",
   "metadata": {},
   "source": [
    "### Discrete"
   ]
  },
  {
   "cell_type": "markdown",
   "metadata": {},
   "source": [
    "#### Example 1\n",
    "\n",
    "Suppose the pmf for $X$ is given by the following table: \n",
    "\n",
    " | value of $X$  | -2 | -1 | 0 | 1 | 2 | \n",
    " | ------ | ------ | ----- | ----- | ----- | ----- |\n",
    " | probability | 0.05 | 0.10 | 0.35 | 0.30 | 0.20 |\n",
    "\n",
    "Find the distribution of $X^2$ and calculate $E(X^2)$. Does $E(X^2) = [E(X)]^2$? "
   ]
  },
  {
   "cell_type": "markdown",
   "metadata": {},
   "source": [
    "The random variable $X^2$ can only take values 0, 1 or 4, with the following probabilities:"
   ]
  },
  {
   "cell_type": "code",
   "execution_count": 5,
   "metadata": {},
   "outputs": [
    {
     "data": {
      "text/html": [
       "<table border=\"1\" class=\"dataframe\">\n",
       "    <thead>\n",
       "        <tr>\n",
       "            <th>Y</th> <th>probability</th>\n",
       "        </tr>\n",
       "    </thead>\n",
       "    <tbody>\n",
       "        <tr>\n",
       "            <td>0   </td> <td>0.35       </td>\n",
       "        </tr>\n",
       "    </tbody>\n",
       "        <tr>\n",
       "            <td>1   </td> <td>0.4        </td>\n",
       "        </tr>\n",
       "    </tbody>\n",
       "        <tr>\n",
       "            <td>4   </td> <td>0.25       </td>\n",
       "        </tr>\n",
       "    </tbody>\n",
       "</table>"
      ],
      "text/plain": [
       "Y    | probability\n",
       "0    | 0.35\n",
       "1    | 0.4\n",
       "4    | 0.25"
      ]
     },
     "execution_count": 5,
     "metadata": {},
     "output_type": "execute_result"
    }
   ],
   "source": [
    "fy=Table().with_columns(\"Y\",np.array([0,1,4]),\"probability\",np.array([0.35,0.1+0.3, 0.05+0.2]))\n",
    "fy"
   ]
  },
  {
   "cell_type": "code",
   "execution_count": 8,
   "metadata": {},
   "outputs": [
    {
     "name": "stdout",
     "output_type": "stream",
     "text": [
      "0.25\n",
      "1.4\n"
     ]
    }
   ],
   "source": [
    "ex= (np.array([-2,-1,0,1,2])*np.array([0.05,0.1,0.35,0.3,0.2])).sum()\n",
    "ey = (fy.column(0)*fy.column(1)).sum()\n",
    "print(ex**2)\n",
    "print(ey)"
   ]
  },
  {
   "cell_type": "markdown",
   "metadata": {},
   "source": [
    "#### Example 2\n",
    "Let $X \\sim \\textsf{Binom}(n,p)$. What is the pmf for $X+3$? Make sure you specify the domain of $X+3$. "
   ]
  },
  {
   "cell_type": "markdown",
   "metadata": {},
   "source": [
    "Let $Y=X+3$. $f_Y(y)=P(Y=y)=P(X+3=y)=P(X=y-3)$. So,\n",
    "\n",
    "$$\n",
    "f_Y(y) = f_X(y-3) = {n\\choose {y-3}}p^{y-3}(1-p)^{n-y+3}\n",
    "$$\n",
    "where $3\\leq y \\leq n+3$. "
   ]
  },
  {
   "cell_type": "markdown",
   "metadata": {},
   "source": [
    "#### Example 3\n",
    "\n",
    "Let $X \\sim \\textsf{Unif}(0,1)$. Let $Y=X^2$. Find the **pdf** of $Y$. Again, specify the domain of $Y$. "
   ]
  },
  {
   "cell_type": "markdown",
   "metadata": {},
   "source": [
    "Note that $f_X(x)=1$ on $[0,1]$ and $F_X(x) = x$ on the same interval. Using the cdf, \n",
    "\n",
    "$$\n",
    "F_Y(y)=P(Y\\leq y) = P(X^2 \\leq y) = P\\left(X \\leq \\sqrt{y}\\right) = F_X\\left(\\sqrt{y}\\right) = \\sqrt{y}\n",
    "$$\n",
    "\n",
    "And since $f_Y(y) = \\frac{d}{dy} F_Y(y)$, \n",
    "\n",
    "$$\n",
    "f_Y(y)=\\frac{d}{dy} \\sqrt{y} = \\frac{1}{2\\sqrt{y}}\n",
    "$$\n",
    "\n",
    "on $[0,1]$. "
   ]
  },
  {
   "cell_type": "markdown",
   "metadata": {},
   "source": [
    "## Moment Generating Functions (MGF)"
   ]
  },
  {
   "cell_type": "markdown",
   "metadata": {},
   "source": [
    "One powerful concept in probability is the moment generating function (mgf). Let $X$ be a random variable. The mgf of $X$ is denoted by $M_X(t)$. This function is powerful because it can be used as a shortcut to find the $k$th central moment. Specifically,\n",
    "\n",
    "$$\n",
    "E(X^k) = \\frac{d^k}{dt^k} M_X(t) \\bigg |_{t=0}\n",
    "$$\n",
    "\n",
    "If you know the moment generating function of $X$, you can simply take the derivative of it with respect to $t$, evaluate at $t=0$ and the result is the expected value of $X$, $E(X)$. \n",
    "\n",
    "The mgf of $X$ is found by\n",
    "\n",
    "$$\n",
    "M_X(t) = E(e^{tX})\n",
    "$$\n",
    "\n",
    "#### Example 4: \n",
    "\n",
    "Let $X$ be a random variable with the exponential distribution with parameter $\\lambda >0$. Recall that $f_X(x) = \\lambda e^{-\\lambda x}$, for $x>0$. Find the mgf of $X$. Use it to verify that $E(X) = \\frac{1}{\\lambda}$. \n",
    "\n"
   ]
  },
  {
   "cell_type": "markdown",
   "metadata": {},
   "source": [
    "$$\n",
    "M_X(t) = E(e^{tX})=\\int_0^\\infty e^{tX}\\lambda e^{-\\lambda x} dx = \\int_0^\\infty \\lambda e^{tx-\\lambda x}dx=\\frac{\\lambda}{t-\\lambda} e^{(t-\\lambda)x}\\bigg |_0^\\infty\n",
    "$$\n",
    "\n",
    "Assuming $|t| < \\lambda$, this simplifies to\n",
    "\n",
    "$$\n",
    "M_X(t) = \\frac{\\lambda}{\\lambda-t}\n",
    "$$\n",
    "\n",
    "Differentiating with respect to $t$: \n",
    "\n",
    "$$\n",
    "\\frac{d}{dt} \\frac{\\lambda}{\\lambda-t} = \\frac{\\lambda}{(\\lambda-t)^2}\n",
    "$$\n",
    "\n",
    "When $t=0$, the result is $\\frac{1}{\\lambda}$. "
   ]
  },
  {
   "cell_type": "markdown",
   "metadata": {},
   "source": [
    "#### Example 5:\n",
    "\n",
    "The moment generating function of a random variable with the binomial distribution (with parameters $n$ and $p$) is given by $M_X(t) = (pe^t + 1 - p)^n$. Use the mgf to verify that $E(X)=np$ and $V(X)=np(1-p)$. Note that $V(X)=E(X^2)-[E(X)]^2$. "
   ]
  },
  {
   "cell_type": "markdown",
   "metadata": {},
   "source": [
    "$$\n",
    "M_X'(t)=n(pe^t+1-p)^{n-1}(pe^t)\n",
    "$$\n",
    "\n",
    "$$\n",
    "E(X)= M_X'(0)=n(p+1-p)^{n-1}(p)= np\n",
    "$$\n",
    "\n",
    "$$\n",
    "M_X''(t)=n(n-1)(pe^t+1-p)^{n-2}(p^2e^{2t}) + n(pe^t + 1 - p)^{n-1}(pe^t)\n",
    "$$\n",
    "\n",
    "$$\n",
    "E(X^2)=M_X''(0)=n(n-1)(p+1-p)^{n-2}(p^2) + n(p + 1 - p)^{n-1}(p) = n(n-1)p^2 + np\n",
    "$$\n",
    "\n",
    "$$\n",
    "Var(X) = E(X^2)-[E(X)]^2 = n^2p^2 - np^2 + np - n^2p^2 = n(p-p^2)=np(1-p)\n",
    "$$"
   ]
  },
  {
   "cell_type": "markdown",
   "metadata": {},
   "source": [
    "### Important Results\n",
    "\n",
    "1) Let $X$ and $Y$ be random variables with mgfs $M_X$ and $M_Y$. $X$ and $Y$ are said to be identically distributed if and only if $M_X(t) = M_Y(t)$ for all $t$ in som interval containing 0. \n",
    "\n",
    "2) MGF of linear transformation of random variable: If $a$ and $b$ are constants, then \n",
    "\n",
    "$$\n",
    "M_{aX+b}(t) = e^{bt}M_X(at)\n",
    "$$\n",
    "\n",
    "3) MGF of sum of independent random variables: If $X$ and $Y$ are independent random variables with mgfs $M_X$ and $M_Y$, then\n",
    "\n",
    "$$\n",
    "M_{X+Y}(t)=M_X(t) \\cdot M_Y(t)\n",
    "$$\n",
    "\n",
    " "
   ]
  },
  {
   "cell_type": "markdown",
   "metadata": {},
   "source": [
    "#### Example 6 \n",
    "\n",
    "Let $X \\sim \\textsf{Exp}(\\lambda)$. Find the distribution of $Y=3X$."
   ]
  },
  {
   "cell_type": "markdown",
   "metadata": {},
   "source": [
    "From above, $M_X(t) = \\frac{\\lambda}{\\lambda-t}$. From the second result above, $M_Y(t) = \\frac{\\lambda}{\\lambda-3t} = \\frac{\\lambda/3}{\\lambda/3 -t}$. This is the mgf of an exponentially distributed random variable with parameter $\\lambda/3$. "
   ]
  },
  {
   "cell_type": "markdown",
   "metadata": {},
   "source": [
    "#### Example 7 \n",
    "\n",
    "Suppose $X_1, X_2, ..., X_n$ are independent identically distributed $\\textsf{Norm}(\\mu,\\sigma)$. Find the distribution of $S=X_1+X_2+...+X_n$ and $\\bar{X} = \\frac{X_1+X_2+...+X_n}{n}$. Note that the mgf of a normally distributed random variable is $M_X(t)=e^{\\mu t+\\sigma^2 t^2/2}$."
   ]
  },
  {
   "cell_type": "markdown",
   "metadata": {},
   "source": [
    "From result 3 above, \n",
    "\n",
    "$$\n",
    "M_S(t)= \\prod_{i=1}^n M_{X_i}(t) = \\prod_{i=1}^n e^{\\mu t+\\sigma^2 t^2/2} = \\left( e^{\\mu t+\\sigma^2 t^2/2}\\right)^n = e^{n\\mu t + n\\sigma^2 t^2/2}\n",
    "$$\n",
    "\n",
    "This is the mgf of a normally distributed random variable with mean $n\\mu$ and standard deviation $\\sqrt{n} \\sigma$. \n",
    "\n",
    "Since $\\bar{X}=S/n$, we can use result 2 from above. \n",
    "\n",
    "$$\n",
    "M_{\\bar{X}}(t) = M_S(t/n) = e^{n\\mu t/n + n\\sigma^2 (t/n)^2/2}=e^{\\mu t + \\frac{\\sigma^2}{n} \\frac{t^2}{2}}\n",
    "$$\n",
    "\n",
    "This is the mgf of a normally distributed random variable with mean $\\mu$ and standard deviation $\\frac{\\sigma}{\\sqrt{n}}$. "
   ]
  }
 ],
 "metadata": {
  "kernelspec": {
   "display_name": "Python 3",
   "language": "python",
   "name": "python3"
  },
  "language_info": {
   "codemirror_mode": {
    "name": "ipython",
    "version": 3
   },
   "file_extension": ".py",
   "mimetype": "text/x-python",
   "name": "python",
   "nbconvert_exporter": "python",
   "pygments_lexer": "ipython3",
   "version": "3.6.4"
  }
 },
 "nbformat": 4,
 "nbformat_minor": 2
}
